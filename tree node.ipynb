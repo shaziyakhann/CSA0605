{
  "cells": [
    {
      "cell_type": "markdown",
      "metadata": {
        "id": "view-in-github",
        "colab_type": "text"
      },
      "source": [
        "<a href=\"https://colab.research.google.com/github/shaziyakhann/CSA0605/blob/main/tree%20node.ipynb\" target=\"_parent\"><img src=\"https://colab.research.google.com/assets/colab-badge.svg\" alt=\"Open In Colab\"/></a>"
      ]
    },
    {
      "cell_type": "code",
      "source": [
        "class TreeNode:\n",
        "    def __init__(self, val=0, left=None, right=None):\n",
        "        self.val = val\n",
        "        self.left = left\n",
        "        self.right = right\n",
        "\n",
        "def construct_maximum_binary_tree(nums):\n",
        "    if not nums:\n",
        "        return None\n",
        "\n",
        "    max_val = max(nums)\n",
        "    max_index = nums.index(max_val)\n",
        "\n",
        "    root = TreeNode(max_val)\n",
        "    root.left = construct_maximum_binary_tree(nums[:max_index])\n",
        "    root.right = construct_maximum_binary_tree(nums[max_index + 1:])\n",
        "\n",
        "    return root\n",
        "\n",
        "# Example usage\n",
        "nums = [3, 2, 1, 6, 0, 5]\n",
        "tree = construct_maximum_binary_tree(nums)\n"
      ],
      "metadata": {
        "id": "96Lljo3qZln9"
      },
      "execution_count": 22,
      "outputs": []
    }
  ],
  "metadata": {
    "colab": {
      "name": "Welcome to Colaboratory",
      "toc_visible": true,
      "provenance": [],
      "include_colab_link": true
    },
    "kernelspec": {
      "display_name": "Python 3",
      "name": "python3"
    }
  },
  "nbformat": 4,
  "nbformat_minor": 0
}