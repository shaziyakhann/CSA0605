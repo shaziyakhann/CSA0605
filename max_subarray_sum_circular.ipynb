{
  "cells": [
    {
      "cell_type": "markdown",
      "metadata": {
        "id": "view-in-github",
        "colab_type": "text"
      },
      "source": [
        "<a href=\"https://colab.research.google.com/github/shaziyakhann/CSA0605/blob/main/max_subarray_sum_circular.ipynb\" target=\"_parent\"><img src=\"https://colab.research.google.com/assets/colab-badge.svg\" alt=\"Open In Colab\"/></a>"
      ]
    },
    {
      "cell_type": "code",
      "source": [
        "def max_subarray_sum_circular(nums):\n",
        "    def kadane(arr):\n",
        "        max_sum = current_sum = arr[0]\n",
        "        for x in arr[1:]:\n",
        "            current_sum = max(x, current_sum + x)\n",
        "            max_sum = max(max_sum, current_sum)\n",
        "        return max_sum\n",
        "\n",
        "    total_sum = sum(nums)\n",
        "    max_normal = kadane(nums)\n",
        "    min_normal = kadane([-x for x in nums])\n",
        "    max_circular = total_sum + min_normal\n",
        "\n",
        "    return max(max_normal, max_circular)\n",
        "\n",
        "# Example usage\n",
        "nums = [1, -2, 3, -2]\n",
        "print(max_subarray_sum_circular(nums))  # Output: 3\n"
      ],
      "metadata": {
        "id": "6Cg1wF_4aIs8",
        "outputId": "ea767b80-9871-4890-cfd7-7243bc9150c5",
        "colab": {
          "base_uri": "https://localhost:8080/"
        }
      },
      "execution_count": 23,
      "outputs": [
        {
          "output_type": "stream",
          "name": "stdout",
          "text": [
            "3\n"
          ]
        }
      ]
    }
  ],
  "metadata": {
    "colab": {
      "name": "Welcome to Colaboratory",
      "toc_visible": true,
      "provenance": [],
      "include_colab_link": true
    },
    "kernelspec": {
      "display_name": "Python 3",
      "name": "python3"
    }
  },
  "nbformat": 4,
  "nbformat_minor": 0
}