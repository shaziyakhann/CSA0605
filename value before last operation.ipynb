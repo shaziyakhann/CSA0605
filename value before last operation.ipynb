{
  "cells": [
    {
      "cell_type": "markdown",
      "metadata": {
        "id": "view-in-github",
        "colab_type": "text"
      },
      "source": [
        "<a href=\"https://colab.research.google.com/github/shaziyakhann/CSA0605/blob/main/value%20before%20last%20operation.ipynb\" target=\"_parent\"><img src=\"https://colab.research.google.com/assets/colab-badge.svg\" alt=\"Open In Colab\"/></a>"
      ]
    },
    {
      "cell_type": "code",
      "source": [
        "def value_before_last_operation(s: str) -> str:\n",
        "    s = list(s)\n",
        "\n",
        "    while True:\n",
        "        removed = set()\n",
        "        to_remove = []\n",
        "\n",
        "        for char in map(chr, range(ord('a'), ord('z') + 1)):\n",
        "            if char in removed:\n",
        "                continue\n",
        "            if char in s:\n",
        "                for i in range(len(s)):\n",
        "                    if s[i] == char:\n",
        "                        to_remove.append(i)\n",
        "                        removed.add(char)\n",
        "                        break\n",
        "\n",
        "        if not to_remove:\n",
        "            break\n",
        "\n",
        "        to_remove.sort(reverse=True)\n",
        "        for index in to_remove:\n",
        "            s.pop(index)\n",
        "\n",
        "    return ''.join(s)\n",
        "\n",
        "s = \"aabcbbca\"\n",
        "print(value_before_last_operation(s))  # Output: \"ba\"\n"
      ],
      "metadata": {
        "id": "zYksIojMYJ7E",
        "outputId": "78c47794-e203-4edd-8e0d-2d01020fa076",
        "colab": {
          "base_uri": "https://localhost:8080/"
        }
      },
      "execution_count": 19,
      "outputs": [
        {
          "output_type": "stream",
          "name": "stdout",
          "text": [
            "\n"
          ]
        }
      ]
    }
  ],
  "metadata": {
    "colab": {
      "name": "Welcome to Colaboratory",
      "toc_visible": true,
      "provenance": [],
      "include_colab_link": true
    },
    "kernelspec": {
      "display_name": "Python 3",
      "name": "python3"
    }
  },
  "nbformat": 4,
  "nbformat_minor": 0
}