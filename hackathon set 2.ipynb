{
  "cells": [
    {
      "cell_type": "markdown",
      "metadata": {
        "id": "view-in-github",
        "colab_type": "text"
      },
      "source": [
        "<a href=\"https://colab.research.google.com/github/shaziyakhann/CSA0605/blob/main/hackathon%20set%202.ipynb\" target=\"_parent\"><img src=\"https://colab.research.google.com/assets/colab-badge.svg\" alt=\"Open In Colab\"/></a>"
      ]
    },
    {
      "cell_type": "code",
      "source": [
        "def num_ways_to_reach_target(n, k, target):\n",
        "    dp = [[0 for _ in range(target + 1)] for _ in range(n + 1)]\n",
        "\n",
        "    dp[0][0] = 1\n",
        "\n",
        "    for i in range(1, n + 1):  # For each die\n",
        "        for j in range(1, target + 1):  # For each sum\n",
        "            for face in range(1, k + 1):  # Each die has 'k' faces\n",
        "                if j - face >= 0:\n",
        "                    dp[i][j] += dp[i - 1][j - face]\n",
        "\n",
        "    return dp[n][target]\n",
        "\n",
        "n = 3\n",
        "k = 6\n",
        "target = 8\n",
        "print(num_ways_to_reach_target(n, k, target))"
      ],
      "metadata": {
        "id": "eiHjqY7rdqHS",
        "outputId": "ac613f4e-ae30-4adc-a2ce-af7198eb8bd9",
        "colab": {
          "base_uri": "https://localhost:8080/"
        }
      },
      "execution_count": 15,
      "outputs": [
        {
          "output_type": "stream",
          "name": "stdout",
          "text": [
            "21\n"
          ]
        }
      ]
    },
    {
      "cell_type": "code",
      "source": [
        "def longest_substring_without_repeating(s):\n",
        "    char_set = set()\n",
        "    left = 0\n",
        "    longest = 0\n",
        "\n",
        "    for right in range(len(s)):\n",
        "        while s[right] in char_set:\n",
        "            char_set.remove(s[left])\n",
        "            left += 1\n",
        "\n",
        "        char_set.add(s[right])\n",
        "        longest = max(longest, right - left + 1)\n",
        "\n",
        "    return longest\n",
        "\n",
        "s = \"shahs\"\n",
        "print(\"Length of the longest substring without repeating characters:\", longest_substring_without_repeating(s))"
      ],
      "metadata": {
        "id": "BHnmGW1PeCYc",
        "outputId": "5bab5471-9e93-43ee-fb3a-b520a539de34",
        "colab": {
          "base_uri": "https://localhost:8080/"
        }
      },
      "execution_count": 18,
      "outputs": [
        {
          "output_type": "stream",
          "name": "stdout",
          "text": [
            "Length of the longest substring without repeating characters: 3\n"
          ]
        }
      ]
    },
    {
      "cell_type": "code",
      "source": [
        "import itertools\n",
        "\n",
        "def tsp_dynamic_programming(dist):\n",
        "    n = len(dist)\n",
        "\n",
        "    dp = [[float('inf')] * n for _ in range(1 << n)]\n",
        "\n",
        "    dp[1][0] = 0\n",
        "\n",
        "    for mask in range(1 << n):\n",
        "        for u in range(n):\n",
        "            if mask & (1 << u):\n",
        "                for v in range(n):\n",
        "                    if mask & (1 << v) == 0:\n",
        "                        dp[mask | (1 << v)][v] = min(dp[mask | (1 << v)][v], dp[mask][u] + dist[u][v])\n",
        "\n",
        "    final_mask = (1 << n) - 1\n",
        "    ans = min(dp[final_mask][i] + dist[i][0] for i in range(1, n))\n",
        "\n",
        "    return ans\n",
        "\n",
        "dist = [\n",
        "    [0, 10, 15, 20],\n",
        "    [10, 0, 35, 25],\n",
        "    [15, 35, 0, 30],\n",
        "    [20, 25, 30, 0]\n",
        "]\n",
        "\n",
        "print(\"The minimum cost of traveling to all cities:\", tsp_dynamic_programming(dist))"
      ],
      "metadata": {
        "id": "GVNeWbQSebB7",
        "outputId": "5c2ff70f-63d7-4a21-e814-a5d1c05219de",
        "colab": {
          "base_uri": "https://localhost:8080/"
        }
      },
      "execution_count": 8,
      "outputs": [
        {
          "output_type": "stream",
          "name": "stdout",
          "text": [
            "The minimum cost of traveling to all cities: 80\n"
          ]
        }
      ]
    },
    {
      "cell_type": "code",
      "source": [
        "def word_break(s, wordDict):\n",
        "    word_set = set(wordDict)\n",
        "\n",
        "    dp = [False] * (len(s) + 1)\n",
        "\n",
        "    dp[0] = True\n",
        "\n",
        "    for i in range(1, len(s) + 1):\n",
        "        for j in range(i):\n",
        "            # If\n",
        "            if dp[j] and s[j:i] in word_set:\n",
        "                dp[i] = True\n",
        "                break\n",
        "\n",
        "    return dp[len(s)]\n",
        "\n",
        "s = \"applepenapple\"\n",
        "wordDict = [\"apple\", \"pen\"]\n",
        "print(\"Can the string be segmented:\", word_break(s, wordDict))"
      ],
      "metadata": {
        "id": "aV7aKj1ge2_b",
        "outputId": "edccd4ee-08de-4019-f6db-196981ae13a2",
        "colab": {
          "base_uri": "https://localhost:8080/"
        }
      },
      "execution_count": 11,
      "outputs": [
        {
          "output_type": "stream",
          "name": "stdout",
          "text": [
            "Can the string be segmented: True\n"
          ]
        }
      ]
    },
    {
      "cell_type": "code",
      "source": [
        "V = 4\n",
        "\n",
        "INF = float('inf')\n",
        "\n",
        "def floyd_warshall(graph):\n",
        "    dist = list(map(lambda i: list(map(lambda j: j, i)), graph))\n",
        "\n",
        "    for k in range(V):\n",
        "        for i in range(V):\n",
        "            for j in range(V):\n",
        "                dist[i][j] = min(dist[i][j], dist[i][k] + dist[k][j])\n",
        "\n",
        "    print_solution(dist)\n",
        "\n",
        "def print_solution(dist):\n",
        "    print(\"Shortest distances between every pair of vertices:\")\n",
        "    for i in range(V):\n",
        "        for j in range(V):\n",
        "            if dist[i][j] == INF:\n",
        "                print(\"INF\", end=\" \")\n",
        "            else:\n",
        "                print(f\"{dist[i][j]:3}\", end=\" \")\n",
        "        print()\n",
        "\n",
        "graph = [\n",
        "    [0, 3, INF, 7],\n",
        "    [8, 0, 2, INF],\n",
        "    [5, INF, 0, 1],\n",
        "    [2, INF, INF, 0]\n",
        "]\n",
        "\n",
        "floyd_warshall(graph)"
      ],
      "metadata": {
        "id": "TxIkVPh9fFM8",
        "outputId": "f4c278c6-b1e4-47b9-bbb8-25819f1ba8d6",
        "colab": {
          "base_uri": "https://localhost:8080/"
        }
      },
      "execution_count": 12,
      "outputs": [
        {
          "output_type": "stream",
          "name": "stdout",
          "text": [
            "Shortest distances between every pair of vertices:\n",
            "  0   3   5   6 \n",
            "  5   0   2   3 \n",
            "  3   6   0   1 \n",
            "  2   5   7   0 \n"
          ]
        }
      ]
    }
  ],
  "metadata": {
    "colab": {
      "name": "Welcome to Colaboratory",
      "toc_visible": true,
      "provenance": [],
      "include_colab_link": true
    },
    "kernelspec": {
      "display_name": "Python 3",
      "name": "python3"
    }
  },
  "nbformat": 4,
  "nbformat_minor": 0
}