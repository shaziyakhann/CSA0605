{
  "cells": [
    {
      "cell_type": "markdown",
      "metadata": {
        "id": "view-in-github",
        "colab_type": "text"
      },
      "source": [
        "<a href=\"https://colab.research.google.com/github/shaziyakhann/CSA0605/blob/main/max_sum_no_adjacent.ipynb\" target=\"_parent\"><img src=\"https://colab.research.google.com/assets/colab-badge.svg\" alt=\"Open In Colab\"/></a>"
      ]
    },
    {
      "cell_type": "code",
      "source": [
        "def max_sum_no_adjacent(nums):\n",
        "    if not nums:\n",
        "        return 0\n",
        "    n = len(nums)\n",
        "    if n == 1:\n",
        "        return nums[0]\n",
        "\n",
        "    dp = [0] * n\n",
        "    dp[0] = nums[0]\n",
        "    if n > 1:\n",
        "        dp[1] = max(nums[0], nums[1])\n",
        "\n",
        "    for i in range(2, n):\n",
        "        dp[i] = max(dp[i-1], dp[i-2] + nums[i])\n",
        "\n",
        "    return dp[-1]\n",
        "\n",
        "def sum_of_answers(nums, queries):\n",
        "    MOD = 10**9 + 7\n",
        "    total_sum = 0\n",
        "\n",
        "    for posi, xi in queries:\n",
        "        nums[posi] = xi\n",
        "        total_sum = (total_sum + max_sum_no_adjacent(nums)) % MOD\n",
        "\n",
        "    return total_sum\n",
        "\n",
        "# Example usage\n",
        "nums = [3, 2, 5, 10, 7]\n",
        "queries = [[1, 10], [2, 15], [0, 5]]\n",
        "print(sum_of_answers(nums, queries))"
      ],
      "metadata": {
        "id": "BReESbGEazn0",
        "outputId": "d5997df4-6a56-42cf-d752-05413b2c7999",
        "colab": {
          "base_uri": "https://localhost:8080/"
        }
      },
      "execution_count": 24,
      "outputs": [
        {
          "output_type": "stream",
          "name": "stdout",
          "text": [
            "72\n"
          ]
        }
      ]
    }
  ],
  "metadata": {
    "colab": {
      "name": "Welcome to Colaboratory",
      "toc_visible": true,
      "provenance": [],
      "include_colab_link": true
    },
    "kernelspec": {
      "display_name": "Python 3",
      "name": "python3"
    }
  },
  "nbformat": 4,
  "nbformat_minor": 0
}