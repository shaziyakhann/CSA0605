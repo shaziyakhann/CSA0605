{
  "cells": [
    {
      "cell_type": "markdown",
      "metadata": {
        "id": "view-in-github",
        "colab_type": "text"
      },
      "source": [
        "<a href=\"https://colab.research.google.com/github/shaziyakhann/CSA0605/blob/main/hackathon%20qnss.ipynb\" target=\"_parent\"><img src=\"https://colab.research.google.com/assets/colab-badge.svg\" alt=\"Open In Colab\"/></a>"
      ]
    },
    {
      "cell_type": "code",
      "source": [
        "import numpy as np\n",
        "from itertools import permutations\n",
        "\n",
        "def assignment_problem(cost_matrix):\n",
        "    num_workers = len(cost_matrix)\n",
        "    min_cost = float('inf')\n",
        "    best_assignment = None\n",
        "\n",
        "    for perm in permutations(range(num_workers)):\n",
        "        current_cost = sum(cost_matrix[i][perm[i]] for i in range(num_workers))\n",
        "        if current_cost < min_cost:\n",
        "            min_cost = current_cost\n",
        "            best_assignment = perm\n",
        "\n",
        "    return best_assignment, min_cost\n",
        "\n",
        "# Example usage\n",
        "cost_matrix = np.array([[10, 19, 8, 15],\n",
        "                         [10, 18, 7, 17],\n",
        "                         [13, 16, 9, 14],\n",
        "                         [12, 19, 20, 8]])\n",
        "\n",
        "assignment, total_cost = assignment_problem(cost_matrix)\n",
        "print(\"Optimal Assignment:\", assignment)\n",
        "print(\"Minimum Total Cost:\", total_cost)"
      ],
      "metadata": {
        "colab": {
          "base_uri": "https://localhost:8080/"
        },
        "id": "DpZQQac3wsXB",
        "outputId": "a02d284d-ad5e-4d85-8cbf-9f9fd649396f"
      },
      "execution_count": 1,
      "outputs": [
        {
          "output_type": "stream",
          "name": "stdout",
          "text": [
            "Optimal Assignment: (0, 2, 1, 3)\n",
            "Minimum Total Cost: 41\n"
          ]
        }
      ]
    },
    {
      "cell_type": "code",
      "source": [
        "import math\n",
        "from itertools import combinations\n",
        "\n",
        "def euclidean_distance(point1, point2):\n",
        "    return math.sqrt((point1[0] - point2[0])**2 + (point1[1] - point2[1])**2)\n",
        "\n",
        "def closest_pair(points):\n",
        "    \"\"\"\n",
        "\n",
        "    Args:\n",
        "      points:\n",
        "\n",
        "    Returns:\n",
        "\n",
        "    \"\"\"\n",
        "    min_distance = float('inf')\n",
        "    closest_points = None\n",
        "    for point1, point2 in combinations(points, 2):\n",
        "        distance = euclidean_distance(point1, point2)\n",
        "        if distance < min_distance:\n",
        "            min_distance = distance\n",
        "            closest_points = (point1, point2)\n",
        "    return closest_points, min_distance\n",
        "\n",
        "def convex_hull(points):\n",
        "    if len(points) < 3:\n",
        "        return points\n",
        "\n",
        "    hull = []\n",
        "    for point in points:\n",
        "        while len(hull) >= 2 and not is_counter_clockwise(hull[-2], hull[-1], point):\n",
        "            hull.pop()\n",
        "        hull.append(point)\n",
        "    return hull\n",
        "\n",
        "def is_counter_clockwise(p, q, r):\n",
        "    return (q[1] - p[1]) * (r[0] - q[0]) > (q[0] - p[0]) * (r[1] - q[1])\n",
        "\n",
        "# Example usage\n",
        "points = [(1, 2), (3, 4)]\n",
        "closest_points, min_distance = closest_pair(points)\n",
        "hull = convex_hull(points)\n",
        "\n",
        "print(\"Closest Points:\", closest_points)\n",
        "print(\"Minimum Distance:\", min_distance)\n",
        "print(\"Convex Hull:\", hull)"
      ],
      "metadata": {
        "colab": {
          "base_uri": "https://localhost:8080/"
        },
        "id": "63vNRxKxx3i_",
        "outputId": "6fa7a1b4-abec-433a-f95d-d3b5464b72f0"
      },
      "execution_count": 6,
      "outputs": [
        {
          "output_type": "stream",
          "name": "stdout",
          "text": [
            "Closest Points: ((1, 2), (3, 4))\n",
            "Minimum Distance: 2.8284271247461903\n",
            "Convex Hull: [(1, 2), (3, 4)]\n"
          ]
        }
      ]
    },
    {
      "cell_type": "code",
      "source": [
        "def find_maximum(arr):\n",
        "\n",
        "  if not arr:\n",
        "    return None  # Return None for empty array\n",
        "\n",
        "  max_element = arr[0]  # Initialize max_element with the first element\n",
        "  for element in arr:\n",
        "    if element > max_element:\n",
        "      max_element = element\n",
        "  return max_element\n",
        "\n",
        "# Example usage\n",
        "my_array = [1, 5, 2, 8, 3]\n",
        "maximum = find_maximum(my_array)\n",
        "print(f\"The maximum element in the array is: {maximum}\")"
      ],
      "metadata": {
        "colab": {
          "base_uri": "https://localhost:8080/"
        },
        "id": "0eSZWJlGyOC7",
        "outputId": "f8f6aa9f-8b49-4827-b4fd-1595212dc9cb"
      },
      "execution_count": 8,
      "outputs": [
        {
          "output_type": "stream",
          "name": "stdout",
          "text": [
            "The maximum element in the array is: 8\n"
          ]
        }
      ]
    },
    {
      "cell_type": "code",
      "source": [
        "#remove duplicates\n",
        "def remove_duplicates(input_list):\n",
        "    unique_elements = list(set(input_list))\n",
        "    return unique_elements\n",
        "\n",
        "input_list = [3, 7, 3, 5, 2, 5, 9, 2]\n",
        "output_list = remove_duplicates(input_list)\n",
        "print(output_list)\n"
      ],
      "metadata": {
        "colab": {
          "base_uri": "https://localhost:8080/"
        },
        "id": "UXTiW17LyZxk",
        "outputId": "49255e52-3bbc-4974-f8d2-276eb3e1ea9a"
      },
      "execution_count": 9,
      "outputs": [
        {
          "output_type": "stream",
          "name": "stdout",
          "text": [
            "[2, 3, 5, 7, 9]\n"
          ]
        }
      ]
    },
    {
      "cell_type": "code",
      "source": [
        "def quick_sort(arr):\n",
        "    if len(arr) <= 1:\n",
        "        return arr\n",
        "    pivot = arr[0]\n",
        "    less_than_pivot = [x for x in arr[1:] if x <= pivot]\n",
        "    greater_than_pivot = [x for x in arr[1:] if x > pivot]\n",
        "\n",
        "    print(f\"Pivot: {pivot}, Less: {less_than_pivot}, Greater: {greater_than_pivot}\")\n",
        "\n",
        "    return quick_sort(less_than_pivot) + [pivot] + quick_sort(greater_than_pivot)\n",
        "unsorted_array = [10, 16, 8, 12, 15, 6, 3, 9, 5]\n",
        "sorted_array = quick_sort(unsorted_array)\n",
        "print(f\"Sorted Array: {sorted_array}\")\n"
      ],
      "metadata": {
        "colab": {
          "base_uri": "https://localhost:8080/"
        },
        "id": "75X3FIQ1ymoy",
        "outputId": "850869d8-f8d8-4150-cc06-ad517656de7c"
      },
      "execution_count": 10,
      "outputs": [
        {
          "output_type": "stream",
          "name": "stdout",
          "text": [
            "Pivot: 10, Less: [8, 6, 3, 9, 5], Greater: [16, 12, 15]\n",
            "Pivot: 8, Less: [6, 3, 5], Greater: [9]\n",
            "Pivot: 6, Less: [3, 5], Greater: []\n",
            "Pivot: 3, Less: [], Greater: [5]\n",
            "Pivot: 16, Less: [12, 15], Greater: []\n",
            "Pivot: 12, Less: [], Greater: [15]\n",
            "Sorted Array: [3, 5, 6, 8, 9, 10, 12, 15, 16]\n"
          ]
        }
      ]
    }
  ],
  "metadata": {
    "colab": {
      "name": "Welcome to Colaboratory",
      "toc_visible": true,
      "provenance": [],
      "include_colab_link": true
    },
    "kernelspec": {
      "display_name": "Python 3",
      "name": "python3"
    }
  },
  "nbformat": 4,
  "nbformat_minor": 0
}