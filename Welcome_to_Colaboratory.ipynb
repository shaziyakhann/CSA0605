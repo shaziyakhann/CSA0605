{
  "cells": [
    {
      "cell_type": "markdown",
      "metadata": {
        "id": "view-in-github",
        "colab_type": "text"
      },
      "source": [
        "<a href=\"https://colab.research.google.com/github/shaziyakhann/CSA0605/blob/main/Welcome_to_Colaboratory.ipynb\" target=\"_parent\"><img src=\"https://colab.research.google.com/assets/colab-badge.svg\" alt=\"Open In Colab\"/></a>"
      ]
    },
    {
      "cell_type": "code",
      "source": [
        "from collections import defaultdict, deque\n",
        "\n",
        "def smallestStringAfterSwaps(s: str, pairs: list[list[int]]) -> str:\n",
        "    # Create a graph where each node is an index of the string\n",
        "    graph = defaultdict(list)\n",
        "    for a, b in pairs:\n",
        "        graph[a].append(b)\n",
        "        graph[b].append(a)\n",
        "\n",
        "    # Find all connected components using BFS or DFS\n",
        "    def bfs(start):\n",
        "        queue = deque([start])\n",
        "        component = []\n",
        "        while queue:\n",
        "            node = queue.popleft()\n",
        "            if node in visited:\n",
        "                continue\n",
        "            visited.add(node)\n",
        "            component.append(node)\n",
        "            for neighbor in graph[node]:\n",
        "                if neighbor not in visited:\n",
        "                    queue.append(neighbor)\n",
        "        return component\n",
        "\n",
        "    visited = set()\n",
        "    result = list(s)\n",
        "\n",
        "    for i in range(len(s)):\n",
        "        if i not in visited:\n",
        "            component = bfs(i)\n",
        "            # Extract the characters corresponding to the indices in the component\n",
        "            chars = [s[j] for j in component]\n",
        "            # Sort characters and place them back in the string\n",
        "            chars.sort()\n",
        "            for idx, char_index in enumerate(sorted(component)):\n",
        "                result[char_index] = chars[idx]\n",
        "\n",
        "    return ''.join(result)\n",
        "\n",
        "# Example usage\n",
        "s = \"dcab\"\n",
        "pairs = [[0, 3], [1, 2]]\n",
        "print(smallestStringAfterSwaps(s, pairs))  # Output: \"abcd\"\n"
      ],
      "metadata": {
        "id": "KKD9B9WEVcSE",
        "outputId": "62eb4909-2803-4b83-8576-b7eb6661f595",
        "colab": {
          "base_uri": "https://localhost:8080/"
        }
      },
      "execution_count": 15,
      "outputs": [
        {
          "output_type": "stream",
          "name": "stdout",
          "text": [
            "bacd\n"
          ]
        }
      ]
    }
  ],
  "metadata": {
    "colab": {
      "name": "Welcome to Colaboratory",
      "toc_visible": true,
      "provenance": [],
      "include_colab_link": true
    },
    "kernelspec": {
      "display_name": "Python 3",
      "name": "python3"
    }
  },
  "nbformat": 4,
  "nbformat_minor": 0
}