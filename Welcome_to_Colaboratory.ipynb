{
  "cells": [
    {
      "cell_type": "markdown",
      "metadata": {
        "id": "view-in-github",
        "colab_type": "text"
      },
      "source": [
        "<a href=\"https://colab.research.google.com/github/shaziyakhann/CSA0605/blob/main/Welcome_to_Colaboratory.ipynb\" target=\"_parent\"><img src=\"https://colab.research.google.com/assets/colab-badge.svg\" alt=\"Open In Colab\"/></a>"
      ]
    },
    {
      "cell_type": "code",
      "source": [
        "def minimize_cost(s: str) -> str:\n",
        "    freq = [0] * 26  # Since we are only dealing with lowercase English letters\n",
        "    result = []\n",
        "\n",
        "    def index_to_char(index):\n",
        "        return chr(index + ord('a'))\n",
        "\n",
        "    for char in s:\n",
        "        if char == '?':\n",
        "            min_freq = min(freq)\n",
        "            chosen_char = index_to_char(freq.index(min_freq))\n",
        "            result.append(chosen_char)\n",
        "            freq[ord(chosen_char) - ord('a')] += 1\n",
        "        else:\n",
        "            result.append(char)\n",
        "            freq[ord(char) - ord('a')] += 1\n",
        "\n",
        "    return ''.join(result)\n",
        "\n",
        "s = \"a?b?c?\"\n",
        "print(minimize_cost(s))  # Output might be \"aabbbc\" or similar depending on how `?` are replaced\n"
      ],
      "metadata": {
        "id": "0XgKLZnzWx6h",
        "outputId": "34d3974d-0281-4a3c-9fc5-6ed73cba92e3",
        "colab": {
          "base_uri": "https://localhost:8080/"
        }
      },
      "execution_count": 17,
      "outputs": [
        {
          "output_type": "stream",
          "name": "stdout",
          "text": [
            "abbccd\n"
          ]
        }
      ]
    }
  ],
  "metadata": {
    "colab": {
      "name": "Welcome to Colaboratory",
      "toc_visible": true,
      "provenance": [],
      "include_colab_link": true
    },
    "kernelspec": {
      "display_name": "Python 3",
      "name": "python3"
    }
  },
  "nbformat": 4,
  "nbformat_minor": 0
}