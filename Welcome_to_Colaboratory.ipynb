{
  "cells": [
    {
      "cell_type": "markdown",
      "metadata": {
        "id": "view-in-github",
        "colab_type": "text"
      },
      "source": [
        "<a href=\"https://colab.research.google.com/github/shaziyakhann/CSA0605/blob/main/Welcome_to_Colaboratory.ipynb\" target=\"_parent\"><img src=\"https://colab.research.google.com/assets/colab-badge.svg\" alt=\"Open In Colab\"/></a>"
      ]
    },
    {
      "cell_type": "code",
      "source": [
        "def can_break(s1: str, s2: str) -> bool:\n",
        "    # Sort both strings\n",
        "    sorted_s1 = ''.join(sorted(s1))\n",
        "    sorted_s2 = ''.join(sorted(s2))\n",
        "\n",
        "    # Check if sorted_s1 can break sorted_s2\n",
        "    def can_break_each(other):\n",
        "        return all(a >= b for a, b in zip(sorted_s1, sorted_s2))\n",
        "\n",
        "    # Check both conditions\n",
        "    return can_break_each(sorted_s2) or can_break_each(sorted_s1)\n",
        "\n",
        "# Example usage\n",
        "s1 = \"abc\"\n",
        "s2 = \"xya\"\n",
        "print(can_break(s1, s2))  # Output: True\n",
        "\n",
        "s1 = \"abc\"\n",
        "s2 = \"xzy\"\n",
        "print(can_break(s1, s2))  # Output: False\n"
      ],
      "metadata": {
        "colab": {
          "base_uri": "https://localhost:8080/"
        },
        "id": "x5XclwhaV_-p",
        "outputId": "ee799afc-710c-4d36-8c21-4f82682ee7ae"
      },
      "execution_count": 16,
      "outputs": [
        {
          "output_type": "stream",
          "name": "stdout",
          "text": [
            "False\n",
            "False\n"
          ]
        }
      ]
    }
  ],
  "metadata": {
    "colab": {
      "name": "Welcome to Colaboratory",
      "toc_visible": true,
      "provenance": [],
      "include_colab_link": true
    },
    "kernelspec": {
      "display_name": "Python 3",
      "name": "python3"
    }
  },
  "nbformat": 4,
  "nbformat_minor": 0
}