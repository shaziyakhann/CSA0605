{
  "cells": [
    {
      "cell_type": "markdown",
      "metadata": {
        "id": "view-in-github",
        "colab_type": "text"
      },
      "source": [
        "<a href=\"https://colab.research.google.com/github/shaziyakhann/CSA0605/blob/main/findMedianSortedArrays.ipynb\" target=\"_parent\"><img src=\"https://colab.research.google.com/assets/colab-badge.svg\" alt=\"Open In Colab\"/></a>"
      ]
    },
    {
      "cell_type": "code",
      "source": [
        "def findMedianSortedArrays(nums1, nums2):\n",
        "    if len(nums1) > len(nums2):\n",
        "        nums1, nums2 = nums2, nums1\n",
        "\n",
        "    m, n = len(nums1), len(nums2)\n",
        "    imin, imax, half_len = 0, m, (m + n + 1) // 2\n",
        "\n",
        "    while imin <= imax:\n",
        "        i = (imin + imax) // 2\n",
        "        j = half_len - i\n",
        "\n",
        "        if i < m and nums2[j - 1] > nums1[i]:\n",
        "            imin = i + 1\n",
        "        elif i > 0 and nums1[i - 1] > nums2[j]:\n",
        "            imax = i - 1\n",
        "        else:\n",
        "            if i == 0: max_of_left = nums2[j - 1]\n",
        "            elif j == 0: max_of_left = nums1[i - 1]\n",
        "            else: max_of_left = max(nums1[i - 1], nums2[j - 1])\n",
        "\n",
        "            if (m + n) % 2 == 1:\n",
        "                return max_of_left\n",
        "\n",
        "            if i == m: min_of_right = nums2[j]\n",
        "            elif j == n: min_of_right = nums1[i]\n",
        "            else: min_of_right = min(nums1[i], nums2[j])\n",
        "\n",
        "            return (max_of_left + min_of_right) / 2.0\n",
        "\n",
        "# Example usage\n",
        "nums1 = [1, 3]\n",
        "nums2 = [2]\n",
        "print(findMedianSortedArrays(nums1, nums2))  # Output: 2.0\n",
        "\n",
        "nums1 = [1, 2]\n",
        "nums2 = [3, 4]\n",
        "print(findMedianSortedArrays(nums1, nums2))  # Output: 2.5\n"
      ],
      "metadata": {
        "id": "myg40Tyub8e3",
        "outputId": "2d06bae5-7ca2-4072-fc7b-ea31aa0e3e79",
        "colab": {
          "base_uri": "https://localhost:8080/"
        }
      },
      "execution_count": 25,
      "outputs": [
        {
          "output_type": "stream",
          "name": "stdout",
          "text": [
            "2\n",
            "2.5\n"
          ]
        }
      ]
    }
  ],
  "metadata": {
    "colab": {
      "name": "Welcome to Colaboratory",
      "toc_visible": true,
      "provenance": [],
      "include_colab_link": true
    },
    "kernelspec": {
      "display_name": "Python 3",
      "name": "python3"
    }
  },
  "nbformat": 4,
  "nbformat_minor": 0
}